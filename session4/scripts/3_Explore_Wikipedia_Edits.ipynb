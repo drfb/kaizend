{
 "cells": [
  {
   "cell_type": "markdown",
   "metadata": {},
   "source": [
    "## Import libraries"
   ]
  },
  {
   "cell_type": "code",
   "execution_count": 1,
   "metadata": {},
   "outputs": [],
   "source": [
    "import pandas as pd\n",
    "import numpy as np"
   ]
  },
  {
   "cell_type": "markdown",
   "metadata": {},
   "source": [
    "## Read in data from CSV file"
   ]
  },
  {
   "cell_type": "code",
   "execution_count": 2,
   "metadata": {},
   "outputs": [],
   "source": [
    "df = pd.read_csv('../input/wikipedia_edits.csv.zip')"
   ]
  },
  {
   "cell_type": "code",
   "execution_count": 3,
   "metadata": {},
   "outputs": [
    {
     "data": {
      "text/plain": [
       "789343"
      ]
     },
     "execution_count": 3,
     "metadata": {},
     "output_type": "execute_result"
    }
   ],
   "source": [
    "len(df)"
   ]
  },
  {
   "cell_type": "code",
   "execution_count": 4,
   "metadata": {},
   "outputs": [
    {
     "data": {
      "text/html": [
       "<div>\n",
       "<style scoped>\n",
       "    .dataframe tbody tr th:only-of-type {\n",
       "        vertical-align: middle;\n",
       "    }\n",
       "\n",
       "    .dataframe tbody tr th {\n",
       "        vertical-align: top;\n",
       "    }\n",
       "\n",
       "    .dataframe thead th {\n",
       "        text-align: right;\n",
       "    }\n",
       "</style>\n",
       "<table border=\"1\" class=\"dataframe\">\n",
       "  <thead>\n",
       "    <tr style=\"text-align: right;\">\n",
       "      <th></th>\n",
       "      <th>title</th>\n",
       "      <th>parentid</th>\n",
       "      <th>revid</th>\n",
       "      <th>timestamp</th>\n",
       "      <th>user</th>\n",
       "      <th>userid</th>\n",
       "      <th>size</th>\n",
       "      <th>recipient</th>\n",
       "      <th>year</th>\n",
       "      <th>rank</th>\n",
       "      <th>country</th>\n",
       "      <th>career</th>\n",
       "      <th>tied</th>\n",
       "    </tr>\n",
       "  </thead>\n",
       "  <tbody>\n",
       "    <tr>\n",
       "      <td>0</td>\n",
       "      <td>50_Cent</td>\n",
       "      <td>858765697</td>\n",
       "      <td>858858564</td>\n",
       "      <td>2018-09-10T02:52:25Z</td>\n",
       "      <td>ProspectIV</td>\n",
       "      <td>33893830.0</td>\n",
       "      <td>132452</td>\n",
       "      <td>50 Cent</td>\n",
       "      <td>2006</td>\n",
       "      <td>8</td>\n",
       "      <td>United States</td>\n",
       "      <td>Musician</td>\n",
       "      <td>0</td>\n",
       "    </tr>\n",
       "    <tr>\n",
       "      <td>1</td>\n",
       "      <td>50_Cent</td>\n",
       "      <td>858673799</td>\n",
       "      <td>858765697</td>\n",
       "      <td>2018-09-09T13:11:00Z</td>\n",
       "      <td>ProspectIV</td>\n",
       "      <td>33893830.0</td>\n",
       "      <td>132476</td>\n",
       "      <td>50 Cent</td>\n",
       "      <td>2006</td>\n",
       "      <td>8</td>\n",
       "      <td>United States</td>\n",
       "      <td>Musician</td>\n",
       "      <td>0</td>\n",
       "    </tr>\n",
       "    <tr>\n",
       "      <td>2</td>\n",
       "      <td>50_Cent</td>\n",
       "      <td>858673121</td>\n",
       "      <td>858673799</td>\n",
       "      <td>2018-09-08T21:46:42Z</td>\n",
       "      <td>ProspectIV</td>\n",
       "      <td>33893830.0</td>\n",
       "      <td>132444</td>\n",
       "      <td>50 Cent</td>\n",
       "      <td>2006</td>\n",
       "      <td>8</td>\n",
       "      <td>United States</td>\n",
       "      <td>Musician</td>\n",
       "      <td>0</td>\n",
       "    </tr>\n",
       "    <tr>\n",
       "      <td>3</td>\n",
       "      <td>50_Cent</td>\n",
       "      <td>858673016</td>\n",
       "      <td>858673121</td>\n",
       "      <td>2018-09-08T21:39:37Z</td>\n",
       "      <td>ProspectIV</td>\n",
       "      <td>33893830.0</td>\n",
       "      <td>132345</td>\n",
       "      <td>50 Cent</td>\n",
       "      <td>2006</td>\n",
       "      <td>8</td>\n",
       "      <td>United States</td>\n",
       "      <td>Musician</td>\n",
       "      <td>0</td>\n",
       "    </tr>\n",
       "    <tr>\n",
       "      <td>4</td>\n",
       "      <td>50_Cent</td>\n",
       "      <td>858469414</td>\n",
       "      <td>858673016</td>\n",
       "      <td>2018-09-08T21:38:24Z</td>\n",
       "      <td>ProspectIV</td>\n",
       "      <td>33893830.0</td>\n",
       "      <td>132345</td>\n",
       "      <td>50 Cent</td>\n",
       "      <td>2006</td>\n",
       "      <td>8</td>\n",
       "      <td>United States</td>\n",
       "      <td>Musician</td>\n",
       "      <td>0</td>\n",
       "    </tr>\n",
       "  </tbody>\n",
       "</table>\n",
       "</div>"
      ],
      "text/plain": [
       "     title   parentid      revid             timestamp        user  \\\n",
       "0  50_Cent  858765697  858858564  2018-09-10T02:52:25Z  ProspectIV   \n",
       "1  50_Cent  858673799  858765697  2018-09-09T13:11:00Z  ProspectIV   \n",
       "2  50_Cent  858673121  858673799  2018-09-08T21:46:42Z  ProspectIV   \n",
       "3  50_Cent  858673016  858673121  2018-09-08T21:39:37Z  ProspectIV   \n",
       "4  50_Cent  858469414  858673016  2018-09-08T21:38:24Z  ProspectIV   \n",
       "\n",
       "       userid    size recipient  year  rank        country    career  tied  \n",
       "0  33893830.0  132452   50 Cent  2006     8  United States  Musician     0  \n",
       "1  33893830.0  132476   50 Cent  2006     8  United States  Musician     0  \n",
       "2  33893830.0  132444   50 Cent  2006     8  United States  Musician     0  \n",
       "3  33893830.0  132345   50 Cent  2006     8  United States  Musician     0  \n",
       "4  33893830.0  132345   50 Cent  2006     8  United States  Musician     0  "
      ]
     },
     "execution_count": 4,
     "metadata": {},
     "output_type": "execute_result"
    }
   ],
   "source": [
    "df.head()"
   ]
  },
  {
   "cell_type": "code",
   "execution_count": 5,
   "metadata": {},
   "outputs": [
    {
     "data": {
      "text/html": [
       "<div>\n",
       "<style scoped>\n",
       "    .dataframe tbody tr th:only-of-type {\n",
       "        vertical-align: middle;\n",
       "    }\n",
       "\n",
       "    .dataframe tbody tr th {\n",
       "        vertical-align: top;\n",
       "    }\n",
       "\n",
       "    .dataframe thead th {\n",
       "        text-align: right;\n",
       "    }\n",
       "</style>\n",
       "<table border=\"1\" class=\"dataframe\">\n",
       "  <thead>\n",
       "    <tr style=\"text-align: right;\">\n",
       "      <th></th>\n",
       "      <th>title</th>\n",
       "      <th>parentid</th>\n",
       "      <th>revid</th>\n",
       "      <th>timestamp</th>\n",
       "      <th>user</th>\n",
       "      <th>userid</th>\n",
       "      <th>size</th>\n",
       "      <th>recipient</th>\n",
       "      <th>year</th>\n",
       "      <th>rank</th>\n",
       "      <th>country</th>\n",
       "      <th>career</th>\n",
       "      <th>tied</th>\n",
       "    </tr>\n",
       "  </thead>\n",
       "  <tbody>\n",
       "    <tr>\n",
       "      <td>789338</td>\n",
       "      <td>U2</td>\n",
       "      <td>383222001</td>\n",
       "      <td>74600</td>\n",
       "      <td>2002-02-25T15:43:11Z</td>\n",
       "      <td>Conversion script</td>\n",
       "      <td>0.0</td>\n",
       "      <td>406</td>\n",
       "      <td>U2</td>\n",
       "      <td>2011</td>\n",
       "      <td>4</td>\n",
       "      <td>Republic of Ireland</td>\n",
       "      <td>Musicians</td>\n",
       "      <td>0</td>\n",
       "    </tr>\n",
       "    <tr>\n",
       "      <td>789339</td>\n",
       "      <td>U2</td>\n",
       "      <td>383221849</td>\n",
       "      <td>383222001</td>\n",
       "      <td>2001-12-19T22:47:40Z</td>\n",
       "      <td>144.132.75.xxx</td>\n",
       "      <td>0.0</td>\n",
       "      <td>402</td>\n",
       "      <td>U2</td>\n",
       "      <td>2011</td>\n",
       "      <td>4</td>\n",
       "      <td>Republic of Ireland</td>\n",
       "      <td>Musicians</td>\n",
       "      <td>0</td>\n",
       "    </tr>\n",
       "    <tr>\n",
       "      <td>789340</td>\n",
       "      <td>U2</td>\n",
       "      <td>292008</td>\n",
       "      <td>292009</td>\n",
       "      <td>2001-12-12T08:28:48Z</td>\n",
       "      <td>202.161.127.xxx</td>\n",
       "      <td>0.0</td>\n",
       "      <td>654</td>\n",
       "      <td>U2</td>\n",
       "      <td>2011</td>\n",
       "      <td>4</td>\n",
       "      <td>Republic of Ireland</td>\n",
       "      <td>Musicians</td>\n",
       "      <td>0</td>\n",
       "    </tr>\n",
       "    <tr>\n",
       "      <td>789341</td>\n",
       "      <td>U2</td>\n",
       "      <td>292007</td>\n",
       "      <td>292008</td>\n",
       "      <td>2001-12-03T17:45:09Z</td>\n",
       "      <td>193.133.134.xxx</td>\n",
       "      <td>0.0</td>\n",
       "      <td>409</td>\n",
       "      <td>U2</td>\n",
       "      <td>2011</td>\n",
       "      <td>4</td>\n",
       "      <td>Republic of Ireland</td>\n",
       "      <td>Musicians</td>\n",
       "      <td>0</td>\n",
       "    </tr>\n",
       "    <tr>\n",
       "      <td>789342</td>\n",
       "      <td>U2</td>\n",
       "      <td>0</td>\n",
       "      <td>292007</td>\n",
       "      <td>2001-08-08T12:04:31Z</td>\n",
       "      <td>Rrees</td>\n",
       "      <td>32609845.0</td>\n",
       "      <td>395</td>\n",
       "      <td>U2</td>\n",
       "      <td>2011</td>\n",
       "      <td>4</td>\n",
       "      <td>Republic of Ireland</td>\n",
       "      <td>Musicians</td>\n",
       "      <td>0</td>\n",
       "    </tr>\n",
       "  </tbody>\n",
       "</table>\n",
       "</div>"
      ],
      "text/plain": [
       "       title   parentid      revid             timestamp               user  \\\n",
       "789338    U2  383222001      74600  2002-02-25T15:43:11Z  Conversion script   \n",
       "789339    U2  383221849  383222001  2001-12-19T22:47:40Z     144.132.75.xxx   \n",
       "789340    U2     292008     292009  2001-12-12T08:28:48Z    202.161.127.xxx   \n",
       "789341    U2     292007     292008  2001-12-03T17:45:09Z    193.133.134.xxx   \n",
       "789342    U2          0     292007  2001-08-08T12:04:31Z              Rrees   \n",
       "\n",
       "            userid  size recipient  year  rank              country  \\\n",
       "789338         0.0   406        U2  2011     4  Republic of Ireland   \n",
       "789339         0.0   402        U2  2011     4  Republic of Ireland   \n",
       "789340         0.0   654        U2  2011     4  Republic of Ireland   \n",
       "789341         0.0   409        U2  2011     4  Republic of Ireland   \n",
       "789342  32609845.0   395        U2  2011     4  Republic of Ireland   \n",
       "\n",
       "           career  tied  \n",
       "789338  Musicians     0  \n",
       "789339  Musicians     0  \n",
       "789340  Musicians     0  \n",
       "789341  Musicians     0  \n",
       "789342  Musicians     0  "
      ]
     },
     "execution_count": 5,
     "metadata": {},
     "output_type": "execute_result"
    }
   ],
   "source": [
    "df.tail()"
   ]
  },
  {
   "cell_type": "code",
   "execution_count": 7,
   "metadata": {},
   "outputs": [
    {
     "data": {
      "text/plain": [
       "789343"
      ]
     },
     "execution_count": 7,
     "metadata": {},
     "output_type": "execute_result"
    }
   ],
   "source": [
    "len(pd.unique(df['revid']))"
   ]
  },
  {
   "cell_type": "code",
   "execution_count": 8,
   "metadata": {},
   "outputs": [
    {
     "data": {
      "text/plain": [
       "82"
      ]
     },
     "execution_count": 8,
     "metadata": {},
     "output_type": "execute_result"
    }
   ],
   "source": [
    "len(pd.unique(df['title']))"
   ]
  },
  {
   "cell_type": "code",
   "execution_count": 9,
   "metadata": {},
   "outputs": [
    {
     "data": {
      "text/plain": [
       "204528"
      ]
     },
     "execution_count": 9,
     "metadata": {},
     "output_type": "execute_result"
    }
   ],
   "source": [
    "len(pd.unique(df['user']))"
   ]
  },
  {
   "cell_type": "code",
   "execution_count": 11,
   "metadata": {},
   "outputs": [
    {
     "data": {
      "text/plain": [
       "69829"
      ]
     },
     "execution_count": 11,
     "metadata": {},
     "output_type": "execute_result"
    }
   ],
   "source": [
    "len(pd.unique(df['userid']))"
   ]
  },
  {
   "cell_type": "code",
   "execution_count": 12,
   "metadata": {},
   "outputs": [
    {
     "data": {
      "text/plain": [
       "GabeMc         4584\n",
       "Popeye191      4560\n",
       "SNUGGUMS       4493\n",
       "Andreasegde    4250\n",
       "ClueBot NG     2940\n",
       "Name: user, dtype: int64"
      ]
     },
     "execution_count": 12,
     "metadata": {},
     "output_type": "execute_result"
    }
   ],
   "source": [
    "df['user'].value_counts().head()"
   ]
  },
  {
   "cell_type": "code",
   "execution_count": 13,
   "metadata": {},
   "outputs": [
    {
     "data": {
      "text/plain": [
       "0.0           243105\n",
       "11243047.0      4584\n",
       "6138283.0       4560\n",
       "19269270.0      4493\n",
       "1228034.0       4250\n",
       "Name: userid, dtype: int64"
      ]
     },
     "execution_count": 13,
     "metadata": {},
     "output_type": "execute_result"
    }
   ],
   "source": [
    "df['userid'].value_counts().head()"
   ]
  },
  {
   "cell_type": "code",
   "execution_count": 18,
   "metadata": {},
   "outputs": [
    {
     "data": {
      "text/plain": [
       "'Out of 204528 users, 134689 (65.85%) are anonymous.'"
      ]
     },
     "execution_count": 18,
     "metadata": {},
     "output_type": "execute_result"
    }
   ],
   "source": [
    "n_users = len(pd.unique(df['user']))\n",
    "n_anon_users = len(pd.unique(df.loc[df['userid']==0, 'user']))\n",
    "pct_anon = n_anon_users/n_users\n",
    "'Out of %d users, %d (%.2f%%) are anonymous.' % (n_users, n_anon_users, pct_anon*100)"
   ]
  },
  {
   "cell_type": "code",
   "execution_count": 19,
   "metadata": {},
   "outputs": [
    {
     "data": {
      "text/plain": [
       "0.658535750606274"
      ]
     },
     "execution_count": 19,
     "metadata": {},
     "output_type": "execute_result"
    }
   ],
   "source": [
    "pct_anon"
   ]
  },
  {
   "cell_type": "code",
   "execution_count": 20,
   "metadata": {},
   "outputs": [
    {
     "data": {
      "text/html": [
       "<div>\n",
       "<style scoped>\n",
       "    .dataframe tbody tr th:only-of-type {\n",
       "        vertical-align: middle;\n",
       "    }\n",
       "\n",
       "    .dataframe tbody tr th {\n",
       "        vertical-align: top;\n",
       "    }\n",
       "\n",
       "    .dataframe thead th {\n",
       "        text-align: right;\n",
       "    }\n",
       "</style>\n",
       "<table border=\"1\" class=\"dataframe\">\n",
       "  <thead>\n",
       "    <tr style=\"text-align: right;\">\n",
       "      <th></th>\n",
       "      <th>title</th>\n",
       "      <th>parentid</th>\n",
       "      <th>revid</th>\n",
       "      <th>timestamp</th>\n",
       "      <th>user</th>\n",
       "      <th>userid</th>\n",
       "      <th>size</th>\n",
       "      <th>recipient</th>\n",
       "      <th>year</th>\n",
       "      <th>rank</th>\n",
       "      <th>country</th>\n",
       "      <th>career</th>\n",
       "      <th>tied</th>\n",
       "    </tr>\n",
       "  </thead>\n",
       "  <tbody>\n",
       "    <tr>\n",
       "      <td>2643</td>\n",
       "      <td>50_Cent</td>\n",
       "      <td>219167675</td>\n",
       "      <td>219176128</td>\n",
       "      <td>2008-06-13T22:43:27Z</td>\n",
       "      <td>209.161.4.106</td>\n",
       "      <td>0.0</td>\n",
       "      <td>48386</td>\n",
       "      <td>50 Cent</td>\n",
       "      <td>2006</td>\n",
       "      <td>8</td>\n",
       "      <td>United States</td>\n",
       "      <td>Musician</td>\n",
       "      <td>0</td>\n",
       "    </tr>\n",
       "    <tr>\n",
       "      <td>2645</td>\n",
       "      <td>50_Cent</td>\n",
       "      <td>219161723</td>\n",
       "      <td>219167119</td>\n",
       "      <td>2008-06-13T21:46:42Z</td>\n",
       "      <td>65.78.203.162</td>\n",
       "      <td>0.0</td>\n",
       "      <td>49406</td>\n",
       "      <td>50 Cent</td>\n",
       "      <td>2006</td>\n",
       "      <td>8</td>\n",
       "      <td>United States</td>\n",
       "      <td>Musician</td>\n",
       "      <td>0</td>\n",
       "    </tr>\n",
       "    <tr>\n",
       "      <td>2649</td>\n",
       "      <td>50_Cent</td>\n",
       "      <td>219119959</td>\n",
       "      <td>219120271</td>\n",
       "      <td>2008-06-13T17:44:54Z</td>\n",
       "      <td>70.109.117.173</td>\n",
       "      <td>0.0</td>\n",
       "      <td>613</td>\n",
       "      <td>50 Cent</td>\n",
       "      <td>2006</td>\n",
       "      <td>8</td>\n",
       "      <td>United States</td>\n",
       "      <td>Musician</td>\n",
       "      <td>0</td>\n",
       "    </tr>\n",
       "    <tr>\n",
       "      <td>2650</td>\n",
       "      <td>50_Cent</td>\n",
       "      <td>219112543</td>\n",
       "      <td>219119959</td>\n",
       "      <td>2008-06-13T17:43:22Z</td>\n",
       "      <td>70.109.117.173</td>\n",
       "      <td>0.0</td>\n",
       "      <td>49436</td>\n",
       "      <td>50 Cent</td>\n",
       "      <td>2006</td>\n",
       "      <td>8</td>\n",
       "      <td>United States</td>\n",
       "      <td>Musician</td>\n",
       "      <td>0</td>\n",
       "    </tr>\n",
       "    <tr>\n",
       "      <td>2652</td>\n",
       "      <td>50_Cent</td>\n",
       "      <td>219111996</td>\n",
       "      <td>219112512</td>\n",
       "      <td>2008-06-13T17:00:52Z</td>\n",
       "      <td>75.3.141.196</td>\n",
       "      <td>0.0</td>\n",
       "      <td>49427</td>\n",
       "      <td>50 Cent</td>\n",
       "      <td>2006</td>\n",
       "      <td>8</td>\n",
       "      <td>United States</td>\n",
       "      <td>Musician</td>\n",
       "      <td>0</td>\n",
       "    </tr>\n",
       "  </tbody>\n",
       "</table>\n",
       "</div>"
      ],
      "text/plain": [
       "        title   parentid      revid             timestamp            user  \\\n",
       "2643  50_Cent  219167675  219176128  2008-06-13T22:43:27Z   209.161.4.106   \n",
       "2645  50_Cent  219161723  219167119  2008-06-13T21:46:42Z   65.78.203.162   \n",
       "2649  50_Cent  219119959  219120271  2008-06-13T17:44:54Z  70.109.117.173   \n",
       "2650  50_Cent  219112543  219119959  2008-06-13T17:43:22Z  70.109.117.173   \n",
       "2652  50_Cent  219111996  219112512  2008-06-13T17:00:52Z    75.3.141.196   \n",
       "\n",
       "      userid   size recipient  year  rank        country    career  tied  \n",
       "2643     0.0  48386   50 Cent  2006     8  United States  Musician     0  \n",
       "2645     0.0  49406   50 Cent  2006     8  United States  Musician     0  \n",
       "2649     0.0    613   50 Cent  2006     8  United States  Musician     0  \n",
       "2650     0.0  49436   50 Cent  2006     8  United States  Musician     0  \n",
       "2652     0.0  49427   50 Cent  2006     8  United States  Musician     0  "
      ]
     },
     "execution_count": 20,
     "metadata": {},
     "output_type": "execute_result"
    }
   ],
   "source": [
    "df[df['userid']==0].head()"
   ]
  },
  {
   "cell_type": "code",
   "execution_count": 21,
   "metadata": {},
   "outputs": [
    {
     "data": {
      "text/plain": [
       "Roger_Federer     24641\n",
       "Britney_Spears    24640\n",
       "The_Beatles       23342\n",
       "Beyonce           20811\n",
       "Eminem            19899\n",
       "Name: title, dtype: int64"
      ]
     },
     "execution_count": 21,
     "metadata": {},
     "output_type": "execute_result"
    }
   ],
   "source": [
    "df['title'].value_counts().head(5)"
   ]
  },
  {
   "cell_type": "code",
   "execution_count": 22,
   "metadata": {},
   "outputs": [
    {
     "data": {
      "text/plain": [
       "Kylie_Jenner       3056\n",
       "Judy_Sheindlin     2762\n",
       "Phil_McGraw        2638\n",
       "Paula_Deen         2563\n",
       "James_Patterson    2543\n",
       "Name: title, dtype: int64"
      ]
     },
     "execution_count": 22,
     "metadata": {},
     "output_type": "execute_result"
    }
   ],
   "source": [
    "df['title'].value_counts().tail(5)"
   ]
  },
  {
   "cell_type": "code",
   "execution_count": null,
   "metadata": {},
   "outputs": [],
   "source": []
  }
 ],
 "metadata": {
  "kernelspec": {
   "display_name": "Python 3",
   "language": "python",
   "name": "python3"
  },
  "language_info": {
   "codemirror_mode": {
    "name": "ipython",
    "version": 3
   },
   "file_extension": ".py",
   "mimetype": "text/x-python",
   "name": "python",
   "nbconvert_exporter": "python",
   "pygments_lexer": "ipython3",
   "version": "3.7.4"
  }
 },
 "nbformat": 4,
 "nbformat_minor": 2
}
